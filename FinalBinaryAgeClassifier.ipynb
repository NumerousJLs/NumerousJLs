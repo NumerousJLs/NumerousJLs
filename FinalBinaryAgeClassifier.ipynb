{
  "cells": [
    {
      "cell_type": "markdown",
      "metadata": {
        "id": "view-in-github",
        "colab_type": "text"
      },
      "source": [
        "<a href=\"https://colab.research.google.com/github/NumerousJLs/NumerousJLs/blob/main/FinalBinaryAgeClassifier.ipynb\" target=\"_parent\"><img src=\"https://colab.research.google.com/assets/colab-badge.svg\" alt=\"Open In Colab\"/></a>"
      ]
    },
    {
      "cell_type": "markdown",
      "source": [
        "# IDMB Wikipedia Dataset Faces Only Download\n"
      ],
      "metadata": {
        "id": "4scoLC5P2zyF"
      }
    },
    {
      "cell_type": "code",
      "source": [
        "! wget https://data.vision.ee.ethz.ch/cvl/rrothe/imdb-wiki/static/wiki_crop.tar -P /content/drive/MyDrive/ColabNotebooks/OpenAvenues"
      ],
      "metadata": {
        "id": "Y3STj5xZolQK"
      },
      "execution_count": null,
      "outputs": []
    },
    {
      "cell_type": "code",
      "source": [
        "! tar -xvf /content/drive/MyDrive/ColabNotebooks/OpenAvenues/wiki_crop.tar -C /content/drive/MyDrive/ColabNotebooks/OpenAvenues/data/cropfacedata"
      ],
      "metadata": {
        "id": "HVIFDG5U29QY"
      },
      "execution_count": null,
      "outputs": []
    },
    {
      "cell_type": "markdown",
      "source": [
        "# Mapping metadata age groundtruth to age buckets 2 (Binary class classifier)"
      ],
      "metadata": {
        "id": "ElfyexjhLISV"
      }
    },
    {
      "cell_type": "code",
      "source": [
        "import scipy.io\n",
        "from datetime import datetime, timedelta\n",
        "\n",
        "# Load the .mat file\n",
        "face_data = scipy.io.loadmat('/content/drive/MyDrive/ColabNotebooks/OpenAvenues/data/cropfacedata/wiki_crop/wiki.mat')\n",
        "\n",
        "wiki = face_data['wiki'][0][0]\n",
        "print(wiki.shape)\n",
        "\n",
        "bucket_0_50 = []\n",
        "bucket_51_100 = []\n",
        "\n",
        "for i in range(62328):\n",
        "    filename = wiki[2][0][i][0]\n",
        "    birth_year = wiki[0][0][i]\n",
        "    n_birth_year = datetime.fromordinal(int(birth_year)) + timedelta(days=int(birth_year) % 1) - timedelta(days=366)\n",
        "    nn_birth_year = n_birth_year.strftime(\"%Y\")\n",
        "    photo_taken = wiki[1][0][i]\n",
        "    age_at_photo = int(photo_taken) - int(nn_birth_year)\n",
        "\n",
        "    if age_at_photo <= 50:\n",
        "        bucket_0_50.append(filename)\n",
        "    else:\n",
        "        bucket_51_100.append(filename)\n",
        "\n",
        "print(len(bucket_0_50))\n",
        "print(len(bucket_51_100))\n",
        "\n",
        "combined_list = [len(bucket_0_50), len(bucket_51_100)]\n",
        "print(combined_list)"
      ],
      "metadata": {
        "id": "LQxLB5p-607U",
        "colab": {
          "base_uri": "https://localhost:8080/"
        },
        "outputId": "bd502480-77aa-4aa0-c778-d14c0e496f20"
      },
      "execution_count": null,
      "outputs": [
        {
          "output_type": "stream",
          "name": "stdout",
          "text": [
            "()\n",
            "49460\n",
            "12868\n",
            "[49460, 12868]\n"
          ]
        }
      ]
    },
    {
      "cell_type": "markdown",
      "source": [
        "# Final Binary Age Classifier: 0-50 or 51-100"
      ],
      "metadata": {
        "id": "SG7uKTIL3jOy"
      }
    },
    {
      "cell_type": "code",
      "source": [
        "import scipy.io\n",
        "import cv2\n",
        "import numpy as np\n",
        "from datetime import datetime, timedelta\n",
        "from sklearn.model_selection import train_test_split\n",
        "from sklearn.linear_model import LogisticRegression\n",
        "from sklearn.metrics import accuracy_score\n",
        "\n",
        "# Load the .mat file\n",
        "face_data = scipy.io.loadmat('/content/drive/MyDrive/ColabNotebooks/OpenAvenues/data/cropfacedata/wiki_crop/wiki.mat')\n",
        "\n",
        "wiki = face_data['wiki'][0][0]\n",
        "\n",
        "# Step 1: Process and split faces dataset into train and test (80-20 split)\n",
        "images = []\n",
        "labels = []\n",
        "\n",
        "#62328\n",
        "for i in range(2300):\n",
        "    filename = wiki[2][0][i][0]\n",
        "    birth_year = wiki[0][0][i]\n",
        "    n_birth_year = datetime.fromordinal(int(birth_year)) + timedelta(days=int(birth_year) % 1) - timedelta(days=366)\n",
        "    nn_birth_year = n_birth_year.strftime(\"%Y\")\n",
        "    photo_taken = wiki[1][0][i]\n",
        "    age_at_photo = int(photo_taken) - int(nn_birth_year)\n",
        "\n",
        "    img = cv2.imread('/content/drive/MyDrive/ColabNotebooks/OpenAvenues/data/cropfacedata/wiki_crop/' + filename, cv2.IMREAD_GRAYSCALE)\n",
        "\n",
        "    # Step 2: Feature extraction using SIFT\n",
        "    sift = cv2.SIFT_create()\n",
        "    kp, des = sift.detectAndCompute(img, None)\n",
        "\n",
        "    # If there are fewer than 2048 keypoints, we pad the descriptor array with zeros\n",
        "    if des is None:\n",
        "        des = np.zeros((2048, 128))\n",
        "    elif des.shape[0] < 2048:\n",
        "        des = np.concatenate((des, np.zeros((2048 - des.shape[0], 128))))\n",
        "    elif des.shape[0] > 2048:\n",
        "        des = des[:2048, :]\n",
        "\n",
        "    # Flatten the descriptor array to get a 1D feature vector\n",
        "    feature_vector = des.flatten()\n",
        "    feature_vector.reshape(-1, 1)\n",
        "\n",
        "    # print(np.shape(feature_vector), \" 1\")\n",
        "    images.append(feature_vector)\n",
        "    # print(np.shape(images), \" 2\")\n",
        "\n",
        "    # Step 3: Assign binary labels (0 for age 0-50, 1 for age 51-100)\n",
        "    label = 0 if age_at_photo <= 50 else 1\n",
        "    labels.append(label)\n",
        "\n",
        "    # print(np.shape(labels), \" 3\")\n",
        "\n",
        "    #print(i, \" 4\")\n",
        "    if i % 100 == 0:\n",
        "      print(i)\n",
        "\n",
        "print(np.shape(images))\n",
        "print(\"Loop Finished\")\n",
        "\n",
        "# Step 4: Split the dataset into training and testing sets (80-20 split)\n",
        "X_train, X_test, y_train, y_test = train_test_split(images, labels, test_size=0.2, random_state=42)\n",
        "print(np.shape(X_train))\n",
        "\n",
        "print(\"Dataset Split\")\n",
        "\n",
        "# Step 5: Train a logistic regression classifier\n",
        "classifier = LogisticRegression(max_iter=1000, random_state=42)\n",
        "classifier.fit(X_train, y_train)\n",
        "\n",
        "print(\"Binary Classifier\")\n",
        "\n",
        "# Step 6: Get accuracy metrics on the test split\n",
        "y_pred = classifier.predict(X_test)\n",
        "\n",
        "print(77)\n",
        "\n",
        "accuracy = accuracy_score(y_test, y_pred)\n",
        "\n",
        "print(81)\n",
        "\n",
        "print(\"Accuracy: {:.2f}%\".format(accuracy * 100))"
      ],
      "metadata": {
        "colab": {
          "base_uri": "https://localhost:8080/"
        },
        "id": "_ofjBomknl-a",
        "outputId": "eed45972-a69d-4b17-b345-d1b19a0e3e52"
      },
      "execution_count": null,
      "outputs": [
        {
          "output_type": "stream",
          "name": "stdout",
          "text": [
            "0\n",
            "100\n",
            "200\n",
            "300\n",
            "400\n",
            "500\n",
            "600\n",
            "700\n",
            "800\n",
            "900\n",
            "1000\n",
            "1100\n",
            "1200\n",
            "1300\n",
            "1400\n",
            "1500\n",
            "1600\n",
            "1700\n",
            "1800\n",
            "1900\n",
            "2000\n",
            "2100\n",
            "2200\n",
            "(2300, 262144)\n",
            "Loop Finished\n",
            "(1840, 262144)\n",
            "Dataset Split\n"
          ]
        }
      ]
    },
    {
      "cell_type": "code",
      "source": [
        "count = 0\n",
        "\n",
        "#Loops through and evalutes contents of feature vectors of X_train\n",
        "for e in X_train:\n",
        "    #prints the shape of arrays in X_train\n",
        "    # print(np.shape(e))\n",
        "\n",
        "    count += 1\n",
        "    #prints length of rows in X_train\n",
        "    #print(len(e))\n",
        "\n",
        "    #2048 x 128 = 262144, all correct images should have features vectors in X_train of this length\n",
        "    if len(e) != 262144:\n",
        "      print(count)\n",
        "      print(len(e))"
      ],
      "metadata": {
        "id": "ciY8s5unP8GZ"
      },
      "execution_count": null,
      "outputs": []
    },
    {
      "cell_type": "markdown",
      "source": [
        "# Training Experiment Notes\n",
        "\n",
        "\n",
        "1.   Wiki birth dates are in special matlab format, used datetime object to convert to integer year\n",
        "2.   Some images do not have SIFT des, results in NONE error. Fixed by padding. Inital padding if des was NONE was from np.zeroes(1, 128) which resulted in an error because the elif resulted in a numpy array f rom (2048, 128) instead. The np had to be the same size.\n",
        "3. Feature vector need to be reshaped with .reshape(-1, 1)\n",
        "4. For unknown reasons the np arrays end with commas and blanks (#, )\n",
        "5. Errors additionally occured from 2\n",
        "images that contained more than 2048 keypoints. This was related to 2. when many images had less than 2048 keypoints.\n",
        "6. Not enough system resources to train model beyond 2300 images, program crashes shortly after.\n",
        "\n",
        "(2300 successful run)\n",
        "![Screenshot 2023-08-13 194029.png](data:image/png;base64,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)\n",
        "\n",
        "(2400, shortly after crash)\n",
        "![image.png](data:image/png;base64,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)"
      ],
      "metadata": {
        "id": "gZcruvAX3uhx"
      }
    },
    {
      "cell_type": "markdown",
      "source": [
        "401 - 76.25% accuracy\n",
        "\n",
        "800 - 77.50% accuracy\n",
        "\n",
        "2000 - 75.50% accuracy\n",
        "\n",
        "2300 - 78.26% accuracy"
      ],
      "metadata": {
        "id": "NPnsVFKu9ipE"
      }
    }
  ],
  "metadata": {
    "colab": {
      "provenance": [],
      "mount_file_id": "1E15pPkcKGPKBbGbU4wmjd1WVdrIXpvet",
      "authorship_tag": "ABX9TyO+foXo+GDofVMDYiVS06EP",
      "include_colab_link": true
    },
    "kernelspec": {
      "display_name": "Python 3",
      "name": "python3"
    },
    "language_info": {
      "name": "python"
    }
  },
  "nbformat": 4,
  "nbformat_minor": 0
}